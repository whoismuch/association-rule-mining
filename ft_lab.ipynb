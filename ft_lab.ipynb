{
 "cells": [
  {
   "cell_type": "code",
   "execution_count": null,
   "id": "initial_id",
   "metadata": {
    "collapsed": true
   },
   "outputs": [],
   "source": [
    "import numpy as np\n",
    "import matplotlib.pyplot as plt\n",
    "from sklearn.model_selection import train_test_split\n",
    "import pandas as pd\n",
    "from sklearn import preprocessing\n",
    "import math\n",
    "\n",
    "rng = np.random.default_rng(51)\n"
   ]
  },
  {
   "cell_type": "code",
   "execution_count": null,
   "outputs": [],
   "source": [
    "df = pd.read_csv('Market_Basket_Optimisation.csv', header=None)\n",
    "le = preprocessing.LabelEncoder()\n",
    "for column_name in df.columns:\n",
    "    df[column_name] = le.fit_transform(df[column_name])\n",
    "y = df[0]\n",
    "X = df.loc[:, df.columns != 0]"
   ],
   "metadata": {
    "collapsed": false
   },
   "id": "9a86fb0ff0b684a1"
  },
  {
   "cell_type": "code",
   "execution_count": null,
   "outputs": [],
   "source": [
    "from ft import fp_growth\n",
    "\n",
    "r=fp_growth(X.values[:100,:],2)\n",
    "for item,support in r:\n",
    "    print('{:<10}'.format(str(item)),'{:<10}'.format(str(support)))"
   ],
   "metadata": {
    "collapsed": false
   },
   "id": "6a9dd16d89a09cab"
  }
 ],
 "metadata": {
  "kernelspec": {
   "display_name": "Python 3",
   "language": "python",
   "name": "python3"
  },
  "language_info": {
   "codemirror_mode": {
    "name": "ipython",
    "version": 2
   },
   "file_extension": ".py",
   "mimetype": "text/x-python",
   "name": "python",
   "nbconvert_exporter": "python",
   "pygments_lexer": "ipython2",
   "version": "2.7.6"
  }
 },
 "nbformat": 4,
 "nbformat_minor": 5
}
